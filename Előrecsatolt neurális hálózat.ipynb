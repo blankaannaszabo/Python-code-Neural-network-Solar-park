{
 "cells": [
  {
   "cell_type": "markdown",
   "metadata": {},
   "source": [
    "# Megfelelő könyvtárak importálása"
   ]
  },
  {
   "cell_type": "code",
   "execution_count": 1,
   "metadata": {},
   "outputs": [],
   "source": [
    "import pandas as pd\n",
    "import numpy as np\n",
    "import tensorflow as tf\n",
    "from keras.layers import Dense, Activation, BatchNormalization, Dropout\n",
    "from keras import regularizers\n",
    "from keras.optimizers import RMSprop, Adam, SGD\n",
    "import datetime\n",
    "import matplotlib.pyplot as plt\n",
    "import seaborn as sns"
   ]
  },
  {
   "cell_type": "markdown",
   "metadata": {},
   "source": [
    "# Adathalmaz behívása"
   ]
  },
  {
   "cell_type": "code",
   "execution_count": 2,
   "metadata": {},
   "outputs": [
    {
     "data": {
      "text/html": [
       "<div>\n",
       "<style scoped>\n",
       "    .dataframe tbody tr th:only-of-type {\n",
       "        vertical-align: middle;\n",
       "    }\n",
       "\n",
       "    .dataframe tbody tr th {\n",
       "        vertical-align: top;\n",
       "    }\n",
       "\n",
       "    .dataframe thead th {\n",
       "        text-align: right;\n",
       "    }\n",
       "</style>\n",
       "<table border=\"1\" class=\"dataframe\">\n",
       "  <thead>\n",
       "    <tr style=\"text-align: right;\">\n",
       "      <th></th>\n",
       "      <th>Deklináció</th>\n",
       "      <th>Óra paraméter</th>\n",
       "      <th>Globális sugárzás</th>\n",
       "      <th>Modul hõmérséklet</th>\n",
       "      <th>Hõmérséklet</th>\n",
       "      <th>Harmatpont</th>\n",
       "      <th>Csapadék</th>\n",
       "      <th>Termelt energia</th>\n",
       "    </tr>\n",
       "  </thead>\n",
       "  <tbody>\n",
       "    <tr>\n",
       "      <th>0</th>\n",
       "      <td>0.07011</td>\n",
       "      <td>0.00</td>\n",
       "      <td>0.0</td>\n",
       "      <td>-0.49</td>\n",
       "      <td>-3.9</td>\n",
       "      <td>-23.6</td>\n",
       "      <td>0.0</td>\n",
       "      <td>0.0</td>\n",
       "    </tr>\n",
       "    <tr>\n",
       "      <th>1</th>\n",
       "      <td>0.07011</td>\n",
       "      <td>0.15</td>\n",
       "      <td>0.0</td>\n",
       "      <td>-0.66</td>\n",
       "      <td>-4.3</td>\n",
       "      <td>-24.0</td>\n",
       "      <td>0.0</td>\n",
       "      <td>0.0</td>\n",
       "    </tr>\n",
       "    <tr>\n",
       "      <th>2</th>\n",
       "      <td>0.07011</td>\n",
       "      <td>0.30</td>\n",
       "      <td>0.0</td>\n",
       "      <td>-0.90</td>\n",
       "      <td>-4.6</td>\n",
       "      <td>-23.7</td>\n",
       "      <td>0.0</td>\n",
       "      <td>0.0</td>\n",
       "    </tr>\n",
       "    <tr>\n",
       "      <th>3</th>\n",
       "      <td>0.07011</td>\n",
       "      <td>0.45</td>\n",
       "      <td>0.0</td>\n",
       "      <td>-1.19</td>\n",
       "      <td>-4.8</td>\n",
       "      <td>-23.3</td>\n",
       "      <td>0.0</td>\n",
       "      <td>0.0</td>\n",
       "    </tr>\n",
       "    <tr>\n",
       "      <th>4</th>\n",
       "      <td>0.07011</td>\n",
       "      <td>1.00</td>\n",
       "      <td>0.0</td>\n",
       "      <td>-1.49</td>\n",
       "      <td>-5.0</td>\n",
       "      <td>-23.0</td>\n",
       "      <td>0.0</td>\n",
       "      <td>0.0</td>\n",
       "    </tr>\n",
       "    <tr>\n",
       "      <th>5</th>\n",
       "      <td>0.07011</td>\n",
       "      <td>1.15</td>\n",
       "      <td>0.0</td>\n",
       "      <td>-1.83</td>\n",
       "      <td>-5.2</td>\n",
       "      <td>-23.2</td>\n",
       "      <td>0.0</td>\n",
       "      <td>0.0</td>\n",
       "    </tr>\n",
       "    <tr>\n",
       "      <th>6</th>\n",
       "      <td>0.07011</td>\n",
       "      <td>1.30</td>\n",
       "      <td>0.0</td>\n",
       "      <td>-2.19</td>\n",
       "      <td>-5.3</td>\n",
       "      <td>-22.8</td>\n",
       "      <td>0.0</td>\n",
       "      <td>0.0</td>\n",
       "    </tr>\n",
       "    <tr>\n",
       "      <th>7</th>\n",
       "      <td>0.07011</td>\n",
       "      <td>1.45</td>\n",
       "      <td>0.0</td>\n",
       "      <td>-2.57</td>\n",
       "      <td>-5.4</td>\n",
       "      <td>-22.4</td>\n",
       "      <td>0.0</td>\n",
       "      <td>0.0</td>\n",
       "    </tr>\n",
       "    <tr>\n",
       "      <th>8</th>\n",
       "      <td>0.07011</td>\n",
       "      <td>2.00</td>\n",
       "      <td>0.0</td>\n",
       "      <td>-2.95</td>\n",
       "      <td>-5.5</td>\n",
       "      <td>-22.5</td>\n",
       "      <td>0.0</td>\n",
       "      <td>0.0</td>\n",
       "    </tr>\n",
       "    <tr>\n",
       "      <th>9</th>\n",
       "      <td>0.07011</td>\n",
       "      <td>2.15</td>\n",
       "      <td>0.0</td>\n",
       "      <td>-3.32</td>\n",
       "      <td>-5.8</td>\n",
       "      <td>-22.3</td>\n",
       "      <td>0.0</td>\n",
       "      <td>0.0</td>\n",
       "    </tr>\n",
       "  </tbody>\n",
       "</table>\n",
       "</div>"
      ],
      "text/plain": [
       "   Deklináció  Óra paraméter  Globális sugárzás  Modul hõmérséklet  \\\n",
       "0     0.07011           0.00                0.0              -0.49   \n",
       "1     0.07011           0.15                0.0              -0.66   \n",
       "2     0.07011           0.30                0.0              -0.90   \n",
       "3     0.07011           0.45                0.0              -1.19   \n",
       "4     0.07011           1.00                0.0              -1.49   \n",
       "5     0.07011           1.15                0.0              -1.83   \n",
       "6     0.07011           1.30                0.0              -2.19   \n",
       "7     0.07011           1.45                0.0              -2.57   \n",
       "8     0.07011           2.00                0.0              -2.95   \n",
       "9     0.07011           2.15                0.0              -3.32   \n",
       "\n",
       "   Hõmérséklet  Harmatpont  Csapadék  Termelt energia  \n",
       "0         -3.9       -23.6       0.0              0.0  \n",
       "1         -4.3       -24.0       0.0              0.0  \n",
       "2         -4.6       -23.7       0.0              0.0  \n",
       "3         -4.8       -23.3       0.0              0.0  \n",
       "4         -5.0       -23.0       0.0              0.0  \n",
       "5         -5.2       -23.2       0.0              0.0  \n",
       "6         -5.3       -22.8       0.0              0.0  \n",
       "7         -5.4       -22.4       0.0              0.0  \n",
       "8         -5.5       -22.5       0.0              0.0  \n",
       "9         -5.8       -22.3       0.0              0.0  "
      ]
     },
     "execution_count": 2,
     "metadata": {},
     "output_type": "execute_result"
    }
   ],
   "source": [
    "adat = pd.read_csv('Hugyag_teljes_adatsor_szűrt.csv', sep=';', encoding='latin-1')\n",
    "adat.head(10)"
   ]
  },
  {
   "cell_type": "markdown",
   "metadata": {},
   "source": [
    "# Korrelációs mátrix"
   ]
  },
  {
   "cell_type": "code",
   "execution_count": 3,
   "metadata": {},
   "outputs": [
    {
     "data": {
      "text/plain": [
       "<AxesSubplot:>"
      ]
     },
     "execution_count": 3,
     "metadata": {},
     "output_type": "execute_result"
    },
    {
     "data": {
      "image/png": "[encoded data removed]",
      "text/plain": [
       "<Figure size 1584x1584 with 2 Axes>"
      ]
     },
     "metadata": {
      "needs_background": "light"
     },
     "output_type": "display_data"
    }
   ],
   "source": [
    "corr_heat = adat.corr(method='pearson',min_periods=1)\n",
    "plt.figure(figsize = (22,22))\n",
    "sns.heatmap(corr_heat, annot = True, square = True)"
   ]
  },
  {
   "cell_type": "markdown",
   "metadata": {},
   "source": [
    "# Adatok szétválasztása bemeneti paraméterekre és célváltozóra (X, Y)"
   ]
  },
  {
   "cell_type": "code",
   "execution_count": 5,
   "metadata": {},
   "outputs": [
    {
     "name": "stdout",
     "output_type": "stream",
     "text": [
      "(26400, 7) (26400, 1)\n"
     ]
    }
   ],
   "source": [
    "x = adat.iloc[:, 0:-1].values\n",
    "y = adat.iloc[:, -1].values\n",
    "y = np.reshape(y, (-1,1))\n",
    "print(x.shape, y.shape)"
   ]
  },
  {
   "cell_type": "markdown",
   "metadata": {},
   "source": [
    "# Adatok szétválasztása tanuló és teszt adathalmazra"
   ]
  },
  {
   "cell_type": "code",
   "execution_count": 7,
   "metadata": {},
   "outputs": [
    {
     "name": "stdout",
     "output_type": "stream",
     "text": [
      "Tanuló halmaz: (21120, 7) (21120, 1) \n",
      "Teszt halmaz: (5280, 7) (5280, 1)\n"
     ]
    }
   ],
   "source": [
    "from sklearn.model_selection import train_test_split\n",
    "x_train, x_test, y_train, y_test = train_test_split(x, y, test_size = 0.2, random_state = 0)\n",
    "print(\"Tanuló halmaz: {} {} \\nTeszt halmaz: {} {}\".format(x_train.shape, y_train.shape, x_test.shape, y_test.shape))"
   ]
  },
  {
   "cell_type": "markdown",
   "metadata": {},
   "source": [
    "# Adathalmaz normalizálása"
   ]
  },
  {
   "cell_type": "code",
   "execution_count": 8,
   "metadata": {
    "scrolled": true
   },
   "outputs": [
    {
     "data": {
      "text/plain": [
       "array([[-0.91928804, -1.64597967, -0.67098488, ..., -0.75108252,\n",
       "        -0.16510327, -0.25430721],\n",
       "       [ 0.29188283,  1.35985126, -0.67098488, ...,  1.15961208,\n",
       "         0.88890774, -0.25430721],\n",
       "       [ 1.05808206, -1.50181512, -0.67098488, ..., -0.18708231,\n",
       "         0.19395542, -0.25430721],\n",
       "       ...,\n",
       "       [ 1.07575489,  0.20653484,  0.77600822, ...,  0.58410166,\n",
       "        -0.10719058,  0.86563955],\n",
       "       [ 0.97235515, -0.03854491,  2.24251045, ...,  1.51642854,\n",
       "         1.25954897, -0.25430721],\n",
       "       [ 0.61537091, -0.10341895,  1.78263692, ...,  0.75675479,\n",
       "         0.3676935 , -0.25430721]])"
      ]
     },
     "execution_count": 8,
     "metadata": {},
     "output_type": "execute_result"
    }
   ],
   "source": [
    "from sklearn.preprocessing import StandardScaler\n",
    "x_sc = StandardScaler()\n",
    "x_trainsc = x_sc.fit_transform(x_train)\n",
    "x_testsc = x_sc.transform(x_test)\n",
    "y_sc = StandardScaler()\n",
    "y_trainsc = y_sc.fit_transform(y_train)    \n",
    "y_testsc = y_sc.transform(y_test)\n",
    "x_trainsc"
   ]
  },
  {
   "cell_type": "markdown",
   "metadata": {},
   "source": [
    "# Előrecsatolt neurális háló felépítése"
   ]
  },
  {
   "cell_type": "code",
   "execution_count": 10,
   "metadata": {},
   "outputs": [
    {
     "name": "stdout",
     "output_type": "stream",
     "text": [
      "Model: \"sequential\"\n",
      "_________________________________________________________________\n",
      "Layer (type)                 Output Shape              Param #   \n",
      "=================================================================\n",
      "dense (Dense)                (None, 32)                256       \n",
      "_________________________________________________________________\n",
      "dense_1 (Dense)              (None, 64)                2112      \n",
      "_________________________________________________________________\n",
      "dense_2 (Dense)              (None, 1)                 65        \n",
      "=================================================================\n",
      "Total params: 2,433\n",
      "Trainable params: 2,433\n",
      "Non-trainable params: 0\n",
      "_________________________________________________________________\n"
     ]
    }
   ],
   "source": [
    "def create_ann (n_layers, n_activation, kernels):\n",
    "  model = tf.keras.models.Sequential()\n",
    "  for i, nodes in enumerate(n_layers):\n",
    "    if i == 0:\n",
    "      model.add(Dense(nodes, kernel_initializer = kernels, activation = n_activation, input_dim = x_train.shape[1]))\n",
    "    else:\n",
    "      model.add(Dense(nodes, activation = n_activation, kernel_initializer = kernels))  \n",
    "  model.add(Dense(1))\n",
    "  model.compile(loss = 'mse', \n",
    "                optimizer = 'adam',\n",
    "                metrics = [tf.keras.metrics.RootMeanSquaredError()])\n",
    "  return model\n",
    "\n",
    "solcast = create_ann([32, 64], 'relu', 'normal')\n",
    "solcast.summary()"
   ]
  },
  {
   "cell_type": "code",
   "execution_count": 12,
   "metadata": {},
   "outputs": [
    {
     "data": {
      "image/png": "[encoded data removed]",
      "text/plain": [
       "<IPython.core.display.Image object>"
      ]
     },
     "execution_count": 12,
     "metadata": {},
     "output_type": "execute_result"
    }
   ],
   "source": [
    "from keras.utils.vis_utils import plot_model\n",
    "plot_model(solcast, show_shapes = True, show_layer_names = True)"
   ]
  },
  {
   "cell_type": "code",
   "execution_count": 13,
   "metadata": {},
   "outputs": [
    {
     "name": "stdout",
     "output_type": "stream",
     "text": [
      "Epoch 1/100\n",
      "660/660 - 1s - loss: 1365.1564 - root_mean_squared_error: 36.9480 - val_loss: 85.9863 - val_root_mean_squared_error: 9.2729\n",
      "Epoch 2/100\n",
      "660/660 - 1s - loss: 81.3527 - root_mean_squared_error: 9.0196 - val_loss: 83.8075 - val_root_mean_squared_error: 9.1546\n",
      "Epoch 3/100\n",
      "660/660 - 0s - loss: 81.3842 - root_mean_squared_error: 9.0213 - val_loss: 83.3297 - val_root_mean_squared_error: 9.1285\n",
      "Epoch 4/100\n",
      "660/660 - 1s - loss: 80.7404 - root_mean_squared_error: 8.9856 - val_loss: 91.4838 - val_root_mean_squared_error: 9.5647\n",
      "Epoch 5/100\n",
      "660/660 - 0s - loss: 79.4865 - root_mean_squared_error: 8.9155 - val_loss: 84.1587 - val_root_mean_squared_error: 9.1738\n",
      "Epoch 6/100\n",
      "660/660 - 0s - loss: 78.4060 - root_mean_squared_error: 8.8547 - val_loss: 83.0146 - val_root_mean_squared_error: 9.1112\n",
      "Epoch 7/100\n",
      "660/660 - 1s - loss: 79.1646 - root_mean_squared_error: 8.8975 - val_loss: 82.8731 - val_root_mean_squared_error: 9.1035\n",
      "Epoch 8/100\n",
      "660/660 - 0s - loss: 78.3169 - root_mean_squared_error: 8.8497 - val_loss: 79.3637 - val_root_mean_squared_error: 8.9086\n",
      "Epoch 9/100\n",
      "660/660 - 1s - loss: 77.4660 - root_mean_squared_error: 8.8015 - val_loss: 84.4988 - val_root_mean_squared_error: 9.1923\n",
      "Epoch 10/100\n",
      "660/660 - 0s - loss: 77.0085 - root_mean_squared_error: 8.7754 - val_loss: 79.0482 - val_root_mean_squared_error: 8.8909\n",
      "Epoch 11/100\n",
      "660/660 - 0s - loss: 76.1246 - root_mean_squared_error: 8.7249 - val_loss: 78.3045 - val_root_mean_squared_error: 8.8490\n",
      "Epoch 12/100\n",
      "660/660 - 0s - loss: 75.3350 - root_mean_squared_error: 8.6796 - val_loss: 80.1188 - val_root_mean_squared_error: 8.9509\n",
      "Epoch 13/100\n",
      "660/660 - 0s - loss: 73.0230 - root_mean_squared_error: 8.5453 - val_loss: 78.3217 - val_root_mean_squared_error: 8.8500\n",
      "Epoch 14/100\n",
      "660/660 - 0s - loss: 71.1581 - root_mean_squared_error: 8.4355 - val_loss: 73.7097 - val_root_mean_squared_error: 8.5854\n",
      "Epoch 15/100\n",
      "660/660 - 1s - loss: 70.3167 - root_mean_squared_error: 8.3855 - val_loss: 75.7089 - val_root_mean_squared_error: 8.7011\n",
      "Epoch 16/100\n",
      "660/660 - 0s - loss: 70.2995 - root_mean_squared_error: 8.3845 - val_loss: 74.7442 - val_root_mean_squared_error: 8.6455\n",
      "Epoch 17/100\n",
      "660/660 - 0s - loss: 68.7503 - root_mean_squared_error: 8.2916 - val_loss: 70.9465 - val_root_mean_squared_error: 8.4230\n",
      "Epoch 18/100\n",
      "660/660 - 0s - loss: 67.4818 - root_mean_squared_error: 8.2147 - val_loss: 77.9967 - val_root_mean_squared_error: 8.8316\n",
      "Epoch 19/100\n",
      "660/660 - 1s - loss: 65.1828 - root_mean_squared_error: 8.0736 - val_loss: 67.1650 - val_root_mean_squared_error: 8.1954\n",
      "Epoch 20/100\n",
      "660/660 - 1s - loss: 64.6767 - root_mean_squared_error: 8.0422 - val_loss: 74.8381 - val_root_mean_squared_error: 8.6509\n",
      "Epoch 21/100\n",
      "660/660 - 0s - loss: 63.9005 - root_mean_squared_error: 7.9938 - val_loss: 69.9753 - val_root_mean_squared_error: 8.3651\n",
      "Epoch 22/100\n",
      "660/660 - 0s - loss: 63.4921 - root_mean_squared_error: 7.9682 - val_loss: 66.5770 - val_root_mean_squared_error: 8.1595\n",
      "Epoch 23/100\n",
      "660/660 - 1s - loss: 61.7504 - root_mean_squared_error: 7.8581 - val_loss: 65.5014 - val_root_mean_squared_error: 8.0933\n",
      "Epoch 24/100\n",
      "660/660 - 0s - loss: 61.1425 - root_mean_squared_error: 7.8194 - val_loss: 68.8653 - val_root_mean_squared_error: 8.2985\n",
      "Epoch 25/100\n",
      "660/660 - 1s - loss: 61.1872 - root_mean_squared_error: 7.8222 - val_loss: 79.4488 - val_root_mean_squared_error: 8.9134\n",
      "Epoch 26/100\n",
      "660/660 - 0s - loss: 59.3742 - root_mean_squared_error: 7.7055 - val_loss: 65.9120 - val_root_mean_squared_error: 8.1186\n",
      "Epoch 27/100\n",
      "660/660 - 1s - loss: 59.5290 - root_mean_squared_error: 7.7155 - val_loss: 75.8740 - val_root_mean_squared_error: 8.7106\n",
      "Epoch 28/100\n",
      "660/660 - 1s - loss: 59.0743 - root_mean_squared_error: 7.6860 - val_loss: 69.8120 - val_root_mean_squared_error: 8.3554\n",
      "Epoch 29/100\n",
      "660/660 - 1s - loss: 58.3136 - root_mean_squared_error: 7.6363 - val_loss: 70.4257 - val_root_mean_squared_error: 8.3920\n",
      "Epoch 30/100\n",
      "660/660 - 1s - loss: 56.8702 - root_mean_squared_error: 7.5412 - val_loss: 62.0825 - val_root_mean_squared_error: 7.8792\n",
      "Epoch 31/100\n",
      "660/660 - 1s - loss: 56.1107 - root_mean_squared_error: 7.4907 - val_loss: 59.4764 - val_root_mean_squared_error: 7.7121\n",
      "Epoch 32/100\n",
      "660/660 - 1s - loss: 56.1126 - root_mean_squared_error: 7.4908 - val_loss: 58.5292 - val_root_mean_squared_error: 7.6504\n",
      "Epoch 33/100\n",
      "660/660 - 1s - loss: 54.5498 - root_mean_squared_error: 7.3858 - val_loss: 57.7747 - val_root_mean_squared_error: 7.6010\n",
      "Epoch 34/100\n",
      "660/660 - 1s - loss: 53.7523 - root_mean_squared_error: 7.3316 - val_loss: 61.2286 - val_root_mean_squared_error: 7.8249\n",
      "Epoch 35/100\n",
      "660/660 - 0s - loss: 52.1166 - root_mean_squared_error: 7.2192 - val_loss: 57.0165 - val_root_mean_squared_error: 7.5509\n",
      "Epoch 36/100\n",
      "660/660 - 1s - loss: 53.2245 - root_mean_squared_error: 7.2955 - val_loss: 62.7896 - val_root_mean_squared_error: 7.9240\n",
      "Epoch 37/100\n",
      "660/660 - 1s - loss: 53.2920 - root_mean_squared_error: 7.3001 - val_loss: 62.0473 - val_root_mean_squared_error: 7.8770\n",
      "Epoch 38/100\n",
      "660/660 - 1s - loss: 51.7538 - root_mean_squared_error: 7.1940 - val_loss: 54.3096 - val_root_mean_squared_error: 7.3695\n",
      "Epoch 39/100\n",
      "660/660 - 0s - loss: 50.0810 - root_mean_squared_error: 7.0768 - val_loss: 59.8596 - val_root_mean_squared_error: 7.7369\n",
      "Epoch 40/100\n",
      "660/660 - 1s - loss: 49.1461 - root_mean_squared_error: 7.0104 - val_loss: 59.3228 - val_root_mean_squared_error: 7.7021\n",
      "Epoch 41/100\n",
      "660/660 - 1s - loss: 50.3570 - root_mean_squared_error: 7.0963 - val_loss: 63.7920 - val_root_mean_squared_error: 7.9870\n",
      "Epoch 42/100\n",
      "660/660 - 1s - loss: 49.6044 - root_mean_squared_error: 7.0430 - val_loss: 53.7895 - val_root_mean_squared_error: 7.3341\n",
      "Epoch 43/100\n",
      "660/660 - 1s - loss: 48.8866 - root_mean_squared_error: 6.9919 - val_loss: 55.0472 - val_root_mean_squared_error: 7.4194\n",
      "Epoch 44/100\n",
      "660/660 - 1s - loss: 48.0028 - root_mean_squared_error: 6.9284 - val_loss: 49.4936 - val_root_mean_squared_error: 7.0352\n",
      "Epoch 45/100\n",
      "660/660 - 1s - loss: 47.1484 - root_mean_squared_error: 6.8665 - val_loss: 56.2309 - val_root_mean_squared_error: 7.4987\n",
      "Epoch 46/100\n",
      "660/660 - 1s - loss: 47.1406 - root_mean_squared_error: 6.8659 - val_loss: 59.0759 - val_root_mean_squared_error: 7.6861\n",
      "Epoch 47/100\n",
      "660/660 - 1s - loss: 47.2892 - root_mean_squared_error: 6.8767 - val_loss: 52.0711 - val_root_mean_squared_error: 7.2160\n",
      "Epoch 48/100\n",
      "660/660 - 1s - loss: 47.2831 - root_mean_squared_error: 6.8763 - val_loss: 52.0453 - val_root_mean_squared_error: 7.2142\n",
      "Epoch 49/100\n",
      "660/660 - 1s - loss: 44.7163 - root_mean_squared_error: 6.6870 - val_loss: 50.6133 - val_root_mean_squared_error: 7.1143\n",
      "Epoch 50/100\n",
      "660/660 - 1s - loss: 44.6971 - root_mean_squared_error: 6.6856 - val_loss: 65.9595 - val_root_mean_squared_error: 8.1215\n",
      "Epoch 51/100\n",
      "660/660 - 1s - loss: 44.4907 - root_mean_squared_error: 6.6701 - val_loss: 58.4928 - val_root_mean_squared_error: 7.6481\n",
      "Epoch 52/100\n",
      "660/660 - 1s - loss: 44.5209 - root_mean_squared_error: 6.6724 - val_loss: 45.5782 - val_root_mean_squared_error: 6.7512\n",
      "Epoch 53/100\n",
      "660/660 - 1s - loss: 44.4783 - root_mean_squared_error: 6.6692 - val_loss: 47.2486 - val_root_mean_squared_error: 6.8738\n",
      "Epoch 54/100\n",
      "660/660 - 1s - loss: 42.6171 - root_mean_squared_error: 6.5282 - val_loss: 48.9004 - val_root_mean_squared_error: 6.9929\n",
      "Epoch 55/100\n",
      "660/660 - 1s - loss: 42.3951 - root_mean_squared_error: 6.5112 - val_loss: 46.4973 - val_root_mean_squared_error: 6.8189\n",
      "Epoch 56/100\n",
      "660/660 - 1s - loss: 41.9443 - root_mean_squared_error: 6.4764 - val_loss: 43.0714 - val_root_mean_squared_error: 6.5629\n",
      "Epoch 57/100\n",
      "660/660 - 1s - loss: 41.9823 - root_mean_squared_error: 6.4794 - val_loss: 53.5708 - val_root_mean_squared_error: 7.3192\n",
      "Epoch 58/100\n",
      "660/660 - 1s - loss: 43.1665 - root_mean_squared_error: 6.5701 - val_loss: 43.5365 - val_root_mean_squared_error: 6.5982\n",
      "Epoch 59/100\n",
      "660/660 - 1s - loss: 40.3277 - root_mean_squared_error: 6.3504 - val_loss: 46.3383 - val_root_mean_squared_error: 6.8072\n",
      "Epoch 60/100\n",
      "660/660 - 1s - loss: 41.2726 - root_mean_squared_error: 6.4244 - val_loss: 45.7835 - val_root_mean_squared_error: 6.7663\n",
      "Epoch 61/100\n",
      "660/660 - 1s - loss: 38.9872 - root_mean_squared_error: 6.2440 - val_loss: 48.1564 - val_root_mean_squared_error: 6.9395\n",
      "Epoch 62/100\n",
      "660/660 - 1s - loss: 41.5090 - root_mean_squared_error: 6.4427 - val_loss: 45.5098 - val_root_mean_squared_error: 6.7461\n",
      "Epoch 63/100\n",
      "660/660 - 1s - loss: 39.5248 - root_mean_squared_error: 6.2869 - val_loss: 41.7979 - val_root_mean_squared_error: 6.4651\n",
      "Epoch 64/100\n",
      "660/660 - 1s - loss: 37.9362 - root_mean_squared_error: 6.1592 - val_loss: 42.2243 - val_root_mean_squared_error: 6.4980\n",
      "Epoch 65/100\n",
      "660/660 - 1s - loss: 39.2956 - root_mean_squared_error: 6.2686 - val_loss: 45.2308 - val_root_mean_squared_error: 6.7254\n",
      "Epoch 66/100\n",
      "660/660 - 1s - loss: 38.0970 - root_mean_squared_error: 6.1723 - val_loss: 40.2932 - val_root_mean_squared_error: 6.3477\n",
      "Epoch 67/100\n",
      "660/660 - 1s - loss: 37.5877 - root_mean_squared_error: 6.1309 - val_loss: 41.4722 - val_root_mean_squared_error: 6.4399\n",
      "Epoch 68/100\n",
      "660/660 - 2s - loss: 37.3198 - root_mean_squared_error: 6.1090 - val_loss: 50.4444 - val_root_mean_squared_error: 7.1024\n",
      "Epoch 69/100\n",
      "660/660 - 2s - loss: 36.3286 - root_mean_squared_error: 6.0273 - val_loss: 42.9976 - val_root_mean_squared_error: 6.5573\n",
      "Epoch 70/100\n",
      "660/660 - 2s - loss: 37.4007 - root_mean_squared_error: 6.1156 - val_loss: 36.9856 - val_root_mean_squared_error: 6.0816\n",
      "Epoch 71/100\n",
      "660/660 - 1s - loss: 37.8281 - root_mean_squared_error: 6.1505 - val_loss: 39.5180 - val_root_mean_squared_error: 6.2863\n",
      "Epoch 72/100\n",
      "660/660 - 1s - loss: 35.7228 - root_mean_squared_error: 5.9769 - val_loss: 38.0541 - val_root_mean_squared_error: 6.1688\n",
      "Epoch 73/100\n",
      "660/660 - 1s - loss: 35.2313 - root_mean_squared_error: 5.9356 - val_loss: 37.8274 - val_root_mean_squared_error: 6.1504\n",
      "Epoch 74/100\n",
      "660/660 - 1s - loss: 34.0449 - root_mean_squared_error: 5.8348 - val_loss: 35.1257 - val_root_mean_squared_error: 5.9267\n",
      "Epoch 75/100\n",
      "660/660 - 1s - loss: 34.4919 - root_mean_squared_error: 5.8730 - val_loss: 38.2567 - val_root_mean_squared_error: 6.1852\n",
      "Epoch 76/100\n",
      "660/660 - 1s - loss: 33.4664 - root_mean_squared_error: 5.7850 - val_loss: 37.3711 - val_root_mean_squared_error: 6.1132\n",
      "Epoch 77/100\n",
      "660/660 - 1s - loss: 32.1896 - root_mean_squared_error: 5.6736 - val_loss: 34.9598 - val_root_mean_squared_error: 5.9127\n",
      "Epoch 78/100\n",
      "660/660 - 0s - loss: 31.3613 - root_mean_squared_error: 5.6001 - val_loss: 33.8398 - val_root_mean_squared_error: 5.8172\n",
      "Epoch 79/100\n",
      "660/660 - 1s - loss: 32.3723 - root_mean_squared_error: 5.6897 - val_loss: 34.2413 - val_root_mean_squared_error: 5.8516\n",
      "Epoch 80/100\n",
      "660/660 - 1s - loss: 31.7919 - root_mean_squared_error: 5.6384 - val_loss: 55.8553 - val_root_mean_squared_error: 7.4736\n",
      "Epoch 81/100\n",
      "660/660 - 1s - loss: 30.9150 - root_mean_squared_error: 5.5601 - val_loss: 34.8632 - val_root_mean_squared_error: 5.9045\n",
      "Epoch 82/100\n",
      "660/660 - 1s - loss: 29.9895 - root_mean_squared_error: 5.4763 - val_loss: 39.9093 - val_root_mean_squared_error: 6.3174\n",
      "Epoch 83/100\n",
      "660/660 - 1s - loss: 28.8929 - root_mean_squared_error: 5.3752 - val_loss: 30.0012 - val_root_mean_squared_error: 5.4773\n",
      "Epoch 84/100\n",
      "660/660 - 1s - loss: 28.4772 - root_mean_squared_error: 5.3364 - val_loss: 31.4463 - val_root_mean_squared_error: 5.6077\n",
      "Epoch 85/100\n",
      "660/660 - 1s - loss: 28.3027 - root_mean_squared_error: 5.3200 - val_loss: 36.9044 - val_root_mean_squared_error: 6.0749\n",
      "Epoch 86/100\n",
      "660/660 - 1s - loss: 26.3424 - root_mean_squared_error: 5.1325 - val_loss: 28.2848 - val_root_mean_squared_error: 5.3183\n",
      "Epoch 87/100\n",
      "660/660 - 1s - loss: 26.7891 - root_mean_squared_error: 5.1758 - val_loss: 23.8177 - val_root_mean_squared_error: 4.8803\n",
      "Epoch 88/100\n",
      "660/660 - 1s - loss: 25.6200 - root_mean_squared_error: 5.0616 - val_loss: 27.8258 - val_root_mean_squared_error: 5.2750\n",
      "Epoch 89/100\n",
      "660/660 - 1s - loss: 25.0334 - root_mean_squared_error: 5.0033 - val_loss: 31.1395 - val_root_mean_squared_error: 5.5803\n",
      "Epoch 90/100\n",
      "660/660 - 1s - loss: 26.8728 - root_mean_squared_error: 5.1839 - val_loss: 27.8688 - val_root_mean_squared_error: 5.2791\n",
      "Epoch 91/100\n",
      "660/660 - 0s - loss: 24.2934 - root_mean_squared_error: 4.9288 - val_loss: 26.9557 - val_root_mean_squared_error: 5.1919\n",
      "Epoch 92/100\n",
      "660/660 - 1s - loss: 23.7097 - root_mean_squared_error: 4.8693 - val_loss: 24.1353 - val_root_mean_squared_error: 4.9128\n",
      "Epoch 93/100\n",
      "660/660 - 1s - loss: 24.2993 - root_mean_squared_error: 4.9294 - val_loss: 21.0912 - val_root_mean_squared_error: 4.5925\n",
      "Epoch 94/100\n",
      "660/660 - 0s - loss: 24.8441 - root_mean_squared_error: 4.9844 - val_loss: 31.2075 - val_root_mean_squared_error: 5.5864\n",
      "Epoch 95/100\n",
      "660/660 - 1s - loss: 20.9665 - root_mean_squared_error: 4.5789 - val_loss: 22.8118 - val_root_mean_squared_error: 4.7762\n",
      "Epoch 96/100\n",
      "660/660 - 0s - loss: 22.0288 - root_mean_squared_error: 4.6935 - val_loss: 18.8695 - val_root_mean_squared_error: 4.3439\n",
      "Epoch 97/100\n",
      "660/660 - 0s - loss: 20.9980 - root_mean_squared_error: 4.5824 - val_loss: 28.0718 - val_root_mean_squared_error: 5.2983\n",
      "Epoch 98/100\n",
      "660/660 - 1s - loss: 22.9078 - root_mean_squared_error: 4.7862 - val_loss: 24.4848 - val_root_mean_squared_error: 4.9482\n",
      "Epoch 99/100\n",
      "660/660 - 0s - loss: 21.1844 - root_mean_squared_error: 4.6027 - val_loss: 21.6453 - val_root_mean_squared_error: 4.6525\n",
      "Epoch 100/100\n",
      "660/660 - 0s - loss: 19.3020 - root_mean_squared_error: 4.3934 - val_loss: 39.9923 - val_root_mean_squared_error: 6.3239\n"
     ]
    }
   ],
   "source": [
    "hist = solcast.fit(x_train, y_train, batch_size = 32, validation_data = (x_test, y_test), epochs = 100, verbose = 2)"
   ]
  },
  {
   "cell_type": "markdown",
   "metadata": {},
   "source": [
    "# RMSE és MSE hiba datok megjelenítése"
   ]
  },
  {
   "cell_type": "code",
   "execution_count": 14,
   "metadata": {},
   "outputs": [
    {
     "data": {
      "image/png": "[encoded data removed]",
      "text/plain": [
       "<Figure size 432x288 with 1 Axes>"
      ]
     },
     "metadata": {
      "needs_background": "light"
     },
     "output_type": "display_data"
    }
   ],
   "source": [
    "plt.plot(hist.history['root_mean_squared_error'])\n",
    "plt.title('Átlagos négyzetes hiba négyzetgyöke (RMSE)')\n",
    "plt.xlabel('Epoch')\n",
    "plt.ylabel('Hiba')\n",
    "plt.show()"
   ]
  },
  {
   "cell_type": "code",
   "execution_count": 15,
   "metadata": {},
   "outputs": [
    {
     "data": {
      "image/png": "[encoded data removed]",
      "text/plain": [
       "<Figure size 432x288 with 1 Axes>"
      ]
     },
     "metadata": {
      "needs_background": "light"
     },
     "output_type": "display_data"
    }
   ],
   "source": [
    "plt.plot(hist.history['loss'])\n",
    "plt.title('Átlagos négyzetes hiba')\n",
    "plt.xlabel('Epoch')\n",
    "plt.ylabel('Hiba')\n",
    "plt.show()"
   ]
  },
  {
   "cell_type": "code",
   "execution_count": 16,
   "metadata": {},
   "outputs": [
    {
     "name": "stdout",
     "output_type": "stream",
     "text": [
      "660/660 [==============================] - 0s 590us/step - loss: 35.4089 - root_mean_squared_error: 5.9505\n"
     ]
    },
    {
     "data": {
      "text/plain": [
       "[35.4089469909668, 5.950541973114014]"
      ]
     },
     "execution_count": 16,
     "metadata": {},
     "output_type": "execute_result"
    }
   ],
   "source": [
    "solcast.evaluate(x_train, y_train)"
   ]
  },
  {
   "cell_type": "markdown",
   "metadata": {},
   "source": [
    "# Előrejelzés és annak hibája"
   ]
  },
  {
   "cell_type": "code",
   "execution_count": 17,
   "metadata": {},
   "outputs": [
    {
     "data": {
      "text/plain": [
       "801.8211721109274"
      ]
     },
     "execution_count": 17,
     "metadata": {},
     "output_type": "execute_result"
    }
   ],
   "source": [
    "from sklearn.metrics import mean_squared_error\n",
    "y_pred = solcast.predict(x_test) \n",
    "y_pred_orig = y_sc.inverse_transform(y_pred) \n",
    "y_test_orig = y_sc.inverse_transform(y_test) \n",
    "RMSE_orig = mean_squared_error(y_pred_orig, y_test_orig, squared=False)\n",
    "RMSE_orig"
   ]
  },
  {
   "cell_type": "code",
   "execution_count": 18,
   "metadata": {},
   "outputs": [
    {
     "data": {
      "text/plain": [
       "754.4771376791274"
      ]
     },
     "execution_count": 18,
     "metadata": {},
     "output_type": "execute_result"
    }
   ],
   "source": [
    "train_pred = solcast.predict(x_train) \n",
    "train_pred_orig = y_sc.inverse_transform(train_pred) \n",
    "y_train_orig = y_sc.inverse_transform(y_train) \n",
    "mean_squared_error(train_pred_orig, y_train_orig, squared = False)"
   ]
  },
  {
   "cell_type": "code",
   "execution_count": 19,
   "metadata": {},
   "outputs": [
    {
     "data": {
      "text/plain": [
       "0.9973950289534329"
      ]
     },
     "execution_count": 19,
     "metadata": {},
     "output_type": "execute_result"
    }
   ],
   "source": [
    "from sklearn.metrics import r2_score\n",
    "r2_score(y_pred_orig, y_test_orig)"
   ]
  },
  {
   "cell_type": "code",
   "execution_count": 21,
   "metadata": {},
   "outputs": [
    {
     "data": {
      "text/plain": [
       "array([[   83.70308685,    83.55444792],\n",
       "       [ -215.74819946,    83.55444792],\n",
       "       [   62.02298355,    83.55444792],\n",
       "       ...,\n",
       "       [23011.9375    , 28397.32379295],\n",
       "       [46594.63671875, 46447.33590149],\n",
       "       [38062.82421875, 38761.24617109]])"
      ]
     },
     "execution_count": 21,
     "metadata": {},
     "output_type": "execute_result"
    }
   ],
   "source": [
    "np.concatenate((train_pred_orig, y_train_orig), 1)"
   ]
  },
  {
   "cell_type": "code",
   "execution_count": 22,
   "metadata": {},
   "outputs": [
    {
     "data": {
      "text/plain": [
       "array([[ 2825.79980469,  2426.65801469],\n",
       "       [  894.8614502 ,   974.89741731],\n",
       "       [ 1168.77929688,  1474.45521239],\n",
       "       ...,\n",
       "       [50833.87109375, 51842.30650573],\n",
       "       [39648.9609375 , 39757.82593488],\n",
       "       [48577.43359375, 48964.14357468]])"
      ]
     },
     "execution_count": 22,
     "metadata": {},
     "output_type": "execute_result"
    }
   ],
   "source": [
    "np.concatenate((y_pred_orig, y_test_orig), 1)"
   ]
  },
  {
   "cell_type": "code",
   "execution_count": 53,
   "metadata": {},
   "outputs": [
    {
     "data": {
      "text/plain": [
       "Text(0.5, 1.0, 'Teszt adathalmaz: Tényleges vs Előrejelzett termelt energiamennyiség')"
      ]
     },
     "execution_count": 53,
     "metadata": {},
     "output_type": "execute_result"
    },
    {
     "data": {
      "image/png": "[encoded data removed]",
      "text/plain": [
       "<Figure size 1152x432 with 1 Axes>"
      ]
     },
     "metadata": {
      "needs_background": "light"
     },
     "output_type": "display_data"
    }
   ],
   "source": [
    "plt.figure(figsize = (16,6))\n",
    "plt.subplot(1,2,2)\n",
    "plt.scatter(y_pred_orig, y_test_orig)\n",
    "plt.xlabel('Előrejelzett termelt energia')\n",
    "plt.ylabel('Tényleges termelt energia')\n",
    "plt.title('Teszt adathalmaz: Tényleges vs Előrejelzett termelt energiamennyiség')\n"
   ]
  },
  {
   "cell_type": "markdown",
   "metadata": {},
   "source": [
    "# Adatok vissza állítása a normalizált adathalmazból"
   ]
  },
  {
   "cell_type": "code",
   "execution_count": 27,
   "metadata": {},
   "outputs": [
    {
     "data": {
      "text/plain": [
       "array([[ -57.88371 ],\n",
       "       [ -47.384686],\n",
       "       [ -45.756405],\n",
       "       ...,\n",
       "       [1158.1069  ],\n",
       "       [1147.5276  ],\n",
       "       [1122.5044  ]], dtype=float32)"
      ]
     },
     "execution_count": 27,
     "metadata": {},
     "output_type": "execute_result"
    }
   ],
   "source": [
    "sc = StandardScaler()\n",
    "pred_whole = solcast.predict(sc.fit_transform(x))\n",
    "pred_whole_orig = y_sc.inverse_transform(pred_whole)\n",
    "pred_whole_orig"
   ]
  }
 ],
 "metadata": {
  "kernelspec": {
   "display_name": "Python 3",
   "language": "python",
   "name": "python3"
  },
  "language_info": {
   "codemirror_mode": {
    "name": "ipython",
    "version": 3
   },
   "file_extension": ".py",
   "mimetype": "text/x-python",
   "name": "python",
   "nbconvert_exporter": "python",
   "pygments_lexer": "ipython3",
   "version": "3.8.5"
  }
 },
 "nbformat": 4,
 "nbformat_minor": 4
}
